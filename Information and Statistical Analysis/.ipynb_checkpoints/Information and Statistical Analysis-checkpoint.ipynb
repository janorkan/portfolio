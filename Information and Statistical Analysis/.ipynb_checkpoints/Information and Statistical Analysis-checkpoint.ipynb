{
 "cells": [
  {
   "cell_type": "markdown",
   "id": "623f5461-d17d-4406-946a-73ee0ea705af",
   "metadata": {},
   "source": [
    "# Information and Statistical Analysis\n",
    "In this project we are calcualting the informations gain of several features for a traget label (\"Draussen Essen\" / \"Eating outside\"). The given dataset contains two sheets\n",
    "- the first sheet contains categorical data per day\n",
    "- the second sheet numerical data, which needs to be categorized for information value calculation\n",
    "\n",
    "In the first chapter we are going to import the data and categorize them, in the second chapter we calculate the information value of teh features and in chapter 3 we are going into a statistical analysis of the features."
   ]
  },
  {
   "cell_type": "markdown",
   "id": "bd1d253d-2a1b-4ebf-8b13-44a37a883cac",
   "metadata": {},
   "source": [
    "## 1. Import and Data Categorization"
   ]
  },
  {
   "cell_type": "code",
   "execution_count": 307,
   "id": "17091a67-5422-4c00-9794-e3b27ce8adb3",
   "metadata": {},
   "outputs": [],
   "source": [
    "# Import libraries\n",
    "\n",
    "try:\n",
    "    import pandas as pd\n",
    "    import numpy as np\n",
    "    import statistics\n",
    "    import seaborn as sns\n",
    "    import warnings\n",
    "    from sklearn.feature_selection import mutual_info_classif\n",
    "    from sklearn.preprocessing import LabelEncoder\n",
    "    from scipy.stats import entropy\n",
    "except IOError:\n",
    "    print(\"Library not found!\")"
   ]
  },
  {
   "cell_type": "code",
   "execution_count": 273,
   "id": "5a1411f0-6631-43de-8a5b-509059d7148c",
   "metadata": {},
   "outputs": [
    {
     "name": "stdout",
     "output_type": "stream",
     "text": [
      "   Tag Wetteraussicht Temperaturkategorie Luftfeuchtigkeit Windstärke  \\\n",
      "0    1         sonnig               heiss             hoch    schwach   \n",
      "1    2         sonnig               heiss             hoch      stark   \n",
      "2    3        bewölkt               heiss             hoch    schwach   \n",
      "3    4     regnerisch                mild             hoch    schwach   \n",
      "4    5     regnerisch                kalt           normal    schwach   \n",
      "\n",
      "  Draussen Essen  \n",
      "0           nein  \n",
      "1           nein  \n",
      "2             ja  \n",
      "3             ja  \n",
      "4             ja  \n",
      "\n",
      "\n",
      "\n",
      "   Temperatur  Luftfeuchtigkeit  Windgeschwindigkeit Aussenverkauf\n",
      "0   15.913043          8.586957             2.743478            ja\n",
      "1   18.500000          7.722222             2.894444            ja\n",
      "2   17.111111          8.188889             4.016667            ja\n",
      "3   18.700000          7.005000             4.545000            ja\n",
      "4   18.388889          7.494444             3.300000            ja\n"
     ]
    }
   ],
   "source": [
    "#Import datasheets from Excel\n",
    "\n",
    "try:\n",
    "    df1 = pd.read_excel(\"./data/ProjectData.xlsx\", sheet_name=0) \n",
    "    df2 = pd.read_excel(\"./data/ProjectData.xlsx\", sheet_name=1) \n",
    "except IOError:\n",
    "    print(\"Data not found!\")\n",
    "\n",
    "print(df1.head())\n",
    "print(\"\\n\\n\")\n",
    "print(df2.head())"
   ]
  },
  {
   "cell_type": "markdown",
   "id": "fece29d2-74e7-4b37-8aa8-66aed4d36fc8",
   "metadata": {},
   "source": [
    "### 1.1 Calculate Information Gain of the Features for df1\n",
    "In the excel_sheet 1 all features are already categorized, so that the information gain of each feature can be calculated with the given data.\n",
    "\n",
    "In the first approach we calculate the inforamtion_gain by the entropie definition of information gain in pandas directly.\n",
    "\n",
    "In teh second aproach we are using a sklearn feature called mutual_info_gain, which calculates the mutual information for discret values and tagret label. Before we can use the mutual_info_gain we need to numerize the categories. Therefore we use the sklearn LabelEncoder. "
   ]
  },
  {
   "cell_type": "code",
   "execution_count": 301,
   "id": "84fb0500-249f-497d-b7ab-3926f1942a2e",
   "metadata": {},
   "outputs": [
    {
     "data": {
      "text/plain": [
       "{'Tag': 0.8196956082875437,\n",
       " 'Wetteraussicht': 0.2818468790656883,\n",
       " 'Temperaturkategorie': 0.021951761615768506,\n",
       " 'Luftfeuchtigkeit': 0.1441334196086771,\n",
       " 'Windstärke': 0.02293125866065937}"
      ]
     },
     "execution_count": 301,
     "metadata": {},
     "output_type": "execute_result"
    }
   ],
   "source": [
    "# Calculating information gain with pandas, using sklearn.entropy, following entropy definition of information gain\n",
    "\n",
    "def info_gain(feature, label):\n",
    "    ent_before = entropy(feature.value_counts(normalize=True))\n",
    "    label.name = \"label\"\n",
    "    feature.name = \"feature\"\n",
    "    \n",
    "    feature_distrib = feature.groupby(label, observed=False).value_counts(normalize=True).reset_index(name=\"count\").pivot_table(index=\"label\", columns=\"feature\", values=\"count\").fillna(0) \n",
    "    \n",
    "    ent_after = entropy(feature_distrib, axis=1)\n",
    "    ent_after = ent_after * label.value_counts(sort=False, normalize=True)\n",
    "    return ent_before - ent_after.sum()\n",
    "\n",
    "igain_dict ={}\n",
    "for col_name, col_series in X1.items():\n",
    "    igain = info_gain(col_series,y1)\n",
    "    igain_dict[col_name] = igain\n",
    "    \n",
    "\n",
    "igain_dict"
   ]
  },
  {
   "cell_type": "code",
   "execution_count": 92,
   "id": "36b41b02-06e3-4906-952e-a59dfa750c11",
   "metadata": {},
   "outputs": [
    {
     "data": {
      "text/plain": [
       "{'Tag': 0.6517565611726529,\n",
       " 'Wetteraussicht': 0.17103394188032717,\n",
       " 'Temperaturkategorie': 0.02025553899523222,\n",
       " 'Luftfeuchtigkeit': 0.10524434967821268,\n",
       " 'Windstärke': 0.03335911543621442}"
      ]
     },
     "execution_count": 92,
     "metadata": {},
     "output_type": "execute_result"
    }
   ],
   "source": [
    "# Calc information gain with mutual_info_gain\n",
    "\n",
    "X1 = df1.drop([\"Draussen Essen\"], axis=1)\n",
    "le = LabelEncoder()\n",
    "X1_le = X1.apply(le.fit_transform)\n",
    "\n",
    "y1 = df1[\"Draussen Essen\"]\n",
    "\n",
    "igain1 = mutual_info_classif(X1_le,y1, random_state=42, n_jobs=-1, discrete_features=True)\n",
    "igain1_dict = dict(zip(X1.columns, igain1))\n",
    "igain1_dict"
   ]
  },
  {
   "cell_type": "markdown",
   "id": "1072f2a6-7208-41db-aff6-9122b68d2b29",
   "metadata": {},
   "source": [
    "### 1.3. Visualize Results\n",
    "The two appraoches gave different results for the information gain, but nearly the same order of features. Let's visualize them sorted."
   ]
  },
  {
   "cell_type": "code",
   "execution_count": 250,
   "id": "8d5f7626-dc79-4b8b-9ce0-ba9448fbc047",
   "metadata": {},
   "outputs": [
    {
     "data": {
      "text/html": [
       "<div>\n",
       "<style scoped>\n",
       "    .dataframe tbody tr th:only-of-type {\n",
       "        vertical-align: middle;\n",
       "    }\n",
       "\n",
       "    .dataframe tbody tr th {\n",
       "        vertical-align: top;\n",
       "    }\n",
       "\n",
       "    .dataframe thead th {\n",
       "        text-align: right;\n",
       "    }\n",
       "</style>\n",
       "<table border=\"1\" class=\"dataframe\">\n",
       "  <thead>\n",
       "    <tr style=\"text-align: right;\">\n",
       "      <th></th>\n",
       "      <th>igain</th>\n",
       "      <th>mut_igain</th>\n",
       "    </tr>\n",
       "  </thead>\n",
       "  <tbody>\n",
       "    <tr>\n",
       "      <th>Tag</th>\n",
       "      <td>0.819696</td>\n",
       "      <td>0.651757</td>\n",
       "    </tr>\n",
       "    <tr>\n",
       "      <th>Wetteraussicht</th>\n",
       "      <td>0.281847</td>\n",
       "      <td>0.171034</td>\n",
       "    </tr>\n",
       "    <tr>\n",
       "      <th>Luftfeuchtigkeit</th>\n",
       "      <td>0.144133</td>\n",
       "      <td>0.105244</td>\n",
       "    </tr>\n",
       "    <tr>\n",
       "      <th>Windstärke</th>\n",
       "      <td>0.022931</td>\n",
       "      <td>0.033359</td>\n",
       "    </tr>\n",
       "    <tr>\n",
       "      <th>Temperaturkategorie</th>\n",
       "      <td>0.021952</td>\n",
       "      <td>0.020256</td>\n",
       "    </tr>\n",
       "  </tbody>\n",
       "</table>\n",
       "</div>"
      ],
      "text/plain": [
       "                        igain  mut_igain\n",
       "Tag                  0.819696   0.651757\n",
       "Wetteraussicht       0.281847   0.171034\n",
       "Luftfeuchtigkeit     0.144133   0.105244\n",
       "Windstärke           0.022931   0.033359\n",
       "Temperaturkategorie  0.021952   0.020256"
      ]
     },
     "execution_count": 250,
     "metadata": {},
     "output_type": "execute_result"
    }
   ],
   "source": [
    "ig = pd.DataFrame.from_dict(igain_dict, orient=\"index\", columns=[\"igain\"])\n",
    "ig2 = pd.DataFrame.from_dict(igain1_dict, orient=\"index\", columns=[\"mut_igain\"])\n",
    "\n",
    "ig = ig.merge(ig2, left_index=True, right_index=True).sort_values(by=\"igain\", axis=0, ascending=False)\n",
    "ig"
   ]
  },
  {
   "cell_type": "code",
   "execution_count": 252,
   "id": "9ba605ae-8737-4612-9e85-2616a8a8fa8b",
   "metadata": {},
   "outputs": [
    {
     "data": {
      "text/plain": [
       "<Axes: >"
      ]
     },
     "execution_count": 252,
     "metadata": {},
     "output_type": "execute_result"
    },
    {
     "data": {
      "image/png": "[encoded data removed]",
      "text/plain": [
       "<Figure size 640x480 with 1 Axes>"
      ]
     },
     "metadata": {},
     "output_type": "display_data"
    }
   ],
   "source": [
    "ig.plot(kind=\"bar\")"
   ]
  },
  {
   "cell_type": "markdown",
   "id": "9a73679e-e37d-415a-bccc-e4293f38086e",
   "metadata": {},
   "source": [
    "### 1.2 Categorize numerical value using pandas cut function for df2\n",
    "\n"
   ]
  },
  {
   "cell_type": "code",
   "execution_count": 289,
   "id": "2bab767a-e7fb-4c74-a33c-31ac40c6b595",
   "metadata": {},
   "outputs": [
    {
     "name": "stdout",
     "output_type": "stream",
     "text": [
      "     Temperatur  Luftfeuchtigkeit  Windgeschwindigkeit Aussenverkauf Wind_cat  \\\n",
      "0     15.913043          8.586957             2.743478            ja        1   \n",
      "1     18.500000          7.722222             2.894444            ja        1   \n",
      "2     17.111111          8.188889             4.016667            ja        1   \n",
      "3     18.700000          7.005000             4.545000            ja        1   \n",
      "4     18.388889          7.494444             3.300000            ja        1   \n",
      "..          ...               ...                  ...           ...      ...   \n",
      "109   34.500000          2.750000             5.562500          nein        1   \n",
      "110   34.250000          3.937500             6.962500          nein        2   \n",
      "111   32.900000          4.090000             8.890000          nein        2   \n",
      "112   32.875000          2.750000             9.962500          nein        2   \n",
      "113   32.000000          2.714286            12.157143          nein        3   \n",
      "\n",
      "    Temp_cat Humidity_cat  \n",
      "0       cold         high  \n",
      "1     medium         high  \n",
      "2       cold         high  \n",
      "3     medium         high  \n",
      "4     medium         high  \n",
      "..       ...          ...  \n",
      "109      hot          low  \n",
      "110      hot          low  \n",
      "111      hot          low  \n",
      "112      hot          low  \n",
      "113      hot          low  \n",
      "\n",
      "[114 rows x 7 columns]\n",
      "\n",
      "\n",
      "\n",
      "Temperatur             0\n",
      "Luftfeuchtigkeit       0\n",
      "Windgeschwindigkeit    0\n",
      "Aussenverkauf          0\n",
      "Wind_cat               0\n",
      "Temp_cat               0\n",
      "Humidity_cat           0\n",
      "dtype: int64\n"
     ]
    }
   ],
   "source": [
    "# categorization\n",
    "\n",
    "wind_cat = [1,2,3]\n",
    "wind_bins = [0, 5.99, 11.99, 1000]\n",
    "\n",
    "temp_cat = [\"cold\",\"medium\",\"hot\"]\n",
    "temp_bins = [0, 17.99, 27.99, 1000]\n",
    "\n",
    "humidity_cat = [\"low\",\"high\"]\n",
    "humidity_bins = [0, 4.99, 1000]\n",
    "\n",
    "df2[\"Wind_cat\"] = pd.cut(df2[\"Windgeschwindigkeit\"], bins=wind_bins, labels=wind_cat)\n",
    "df2[\"Temp_cat\"] = pd.cut(df2[\"Temperatur\"], bins=temp_bins, labels=temp_cat)\n",
    "df2[\"Humidity_cat\"] = pd.cut(df2[\"Luftfeuchtigkeit\"], bins=humidity_bins, labels=humidity_cat)\n",
    "\n",
    "print(df2)\n",
    "print(\"\\n\\n\")\n",
    "print(df2.isnull().sum())"
   ]
  },
  {
   "cell_type": "code",
   "execution_count": 358,
   "id": "d0199c84-72d7-4360-ac12-e1b1ad39c65e",
   "metadata": {},
   "outputs": [
    {
     "data": {
      "text/plain": [
       "{'Wind_cat': 0.30626467106007915,\n",
       " 'Temp_cat': 0.01431780447792752,\n",
       " 'Humidity_cat': 0.01637272174603177}"
      ]
     },
     "execution_count": 358,
     "metadata": {},
     "output_type": "execute_result"
    }
   ],
   "source": [
    "# Calculating information gain for second dataframe, reusing function info_gain (ignoring FutureWarnings)\n",
    "\n",
    "X2 = df2[[\"Wind_cat\", \"Temp_cat\", \"Humidity_cat\"]]\n",
    "y2 = df2[\"Aussenverkauf\"]\n",
    "\n",
    "with warnings.catch_warnings():\n",
    "    warnings.simplefilter(action='ignore', category=FutureWarning)\n",
    "    \n",
    "    igain2_dict ={}\n",
    "    for col_name, col_series in X2.items():\n",
    "        igain2 = info_gain(col_series,y2)\n",
    "        igain2_dict[col_name] = igain2\n",
    "    \n",
    "igain2_dict"
   ]
  },
  {
   "cell_type": "markdown",
   "id": "4967d5c5-217a-40ff-a9bf-e0e6f9fcb07b",
   "metadata": {},
   "source": [
    "## 3. Statistical Analysis of df2\n",
    "In this section we calculate some basic statistical data for the features of df2.\n",
    "- Mean\n",
    "- Median\n",
    "- Standarddeviation\n",
    "- Correlations"
   ]
  },
  {
   "cell_type": "code",
   "execution_count": 336,
   "id": "bce37a55-769e-499c-b1a5-7525144b786d",
   "metadata": {},
   "outputs": [
    {
     "data": {
      "text/html": [
       "<div>\n",
       "<style scoped>\n",
       "    .dataframe tbody tr th:only-of-type {\n",
       "        vertical-align: middle;\n",
       "    }\n",
       "\n",
       "    .dataframe tbody tr th {\n",
       "        vertical-align: top;\n",
       "    }\n",
       "\n",
       "    .dataframe thead th {\n",
       "        text-align: right;\n",
       "    }\n",
       "</style>\n",
       "<table border=\"1\" class=\"dataframe\">\n",
       "  <thead>\n",
       "    <tr style=\"text-align: right;\">\n",
       "      <th></th>\n",
       "      <th>Temperatur</th>\n",
       "      <th>Luftfeuchtigkeit</th>\n",
       "      <th>Windgeschwindigkeit</th>\n",
       "    </tr>\n",
       "  </thead>\n",
       "  <tbody>\n",
       "    <tr>\n",
       "      <th>count</th>\n",
       "      <td>114.000000</td>\n",
       "      <td>114.000000</td>\n",
       "      <td>114.000000</td>\n",
       "    </tr>\n",
       "    <tr>\n",
       "      <th>mean</th>\n",
       "      <td>21.713079</td>\n",
       "      <td>5.625836</td>\n",
       "      <td>8.143924</td>\n",
       "    </tr>\n",
       "    <tr>\n",
       "      <th>std</th>\n",
       "      <td>6.360072</td>\n",
       "      <td>1.906808</td>\n",
       "      <td>3.588049</td>\n",
       "    </tr>\n",
       "    <tr>\n",
       "      <th>min</th>\n",
       "      <td>11.000000</td>\n",
       "      <td>1.775000</td>\n",
       "      <td>1.387500</td>\n",
       "    </tr>\n",
       "    <tr>\n",
       "      <th>25%</th>\n",
       "      <td>16.437198</td>\n",
       "      <td>3.962500</td>\n",
       "      <td>5.563542</td>\n",
       "    </tr>\n",
       "    <tr>\n",
       "      <th>50%</th>\n",
       "      <td>19.875000</td>\n",
       "      <td>5.775000</td>\n",
       "      <td>8.069444</td>\n",
       "    </tr>\n",
       "    <tr>\n",
       "      <th>75%</th>\n",
       "      <td>27.705357</td>\n",
       "      <td>7.190278</td>\n",
       "      <td>10.068750</td>\n",
       "    </tr>\n",
       "    <tr>\n",
       "      <th>max</th>\n",
       "      <td>34.500000</td>\n",
       "      <td>9.583333</td>\n",
       "      <td>19.314286</td>\n",
       "    </tr>\n",
       "  </tbody>\n",
       "</table>\n",
       "</div>"
      ],
      "text/plain": [
       "       Temperatur  Luftfeuchtigkeit  Windgeschwindigkeit\n",
       "count  114.000000        114.000000           114.000000\n",
       "mean    21.713079          5.625836             8.143924\n",
       "std      6.360072          1.906808             3.588049\n",
       "min     11.000000          1.775000             1.387500\n",
       "25%     16.437198          3.962500             5.563542\n",
       "50%     19.875000          5.775000             8.069444\n",
       "75%     27.705357          7.190278            10.068750\n",
       "max     34.500000          9.583333            19.314286"
      ]
     },
     "execution_count": 336,
     "metadata": {},
     "output_type": "execute_result"
    }
   ],
   "source": [
    "df3 = df2[[\"Temperatur\", \"Luftfeuchtigkeit\", \"Windgeschwindigkeit\"]]\n",
    "\n",
    "df3.describe()"
   ]
  },
  {
   "cell_type": "code",
   "execution_count": 338,
   "id": "54519c02-6f31-4a8f-97ec-414eb1780745",
   "metadata": {},
   "outputs": [
    {
     "data": {
      "text/plain": [
       "{'Temperatur': 21.71, 'Luftfeuchtigkeit': 5.63, 'Windgeschwindigkeit': 8.14}"
      ]
     },
     "execution_count": 338,
     "metadata": {},
     "output_type": "execute_result"
    }
   ],
   "source": [
    "# Mean\n",
    "\n",
    "mean_dict = {}\n",
    "for col_name, col_series in df3.items():\n",
    "        mean = round(statistics.mean(col_series),2)\n",
    "        mean_dict[col_name] = mean\n",
    "    \n",
    "mean_dict"
   ]
  },
  {
   "cell_type": "code",
   "execution_count": 332,
   "id": "4c39d0c6-32da-42dc-811f-242ffe77d5cc",
   "metadata": {},
   "outputs": [
    {
     "data": {
      "text/plain": [
       "{'Temperatur': 19.88, 'Luftfeuchtigkeit': 5.78, 'Windgeschwindigkeit': 8.07}"
      ]
     },
     "execution_count": 332,
     "metadata": {},
     "output_type": "execute_result"
    }
   ],
   "source": [
    "# Median\n",
    "\n",
    "median_dict = {}\n",
    "for col_name, col_series in df3.items():\n",
    "        median = round(statistics.median(col_series),2)\n",
    "        median_dict[col_name] = median\n",
    "    \n",
    "median_dict"
   ]
  },
  {
   "cell_type": "code",
   "execution_count": 342,
   "id": "f876b225-28a1-43ca-b1f2-cd6ad3ead946",
   "metadata": {},
   "outputs": [
    {
     "data": {
      "text/plain": [
       "{'Temperatur': 6.36, 'Luftfeuchtigkeit': 1.91, 'Windgeschwindigkeit': 3.59}"
      ]
     },
     "execution_count": 342,
     "metadata": {},
     "output_type": "execute_result"
    }
   ],
   "source": [
    "# Standarddeviation\n",
    "\n",
    "std_dict = {}\n",
    "for col_name, col_series in df3.items():\n",
    "        std = round(statistics.stdev(col_series),2)\n",
    "        std_dict[col_name] = std\n",
    "    \n",
    "std_dict"
   ]
  },
  {
   "cell_type": "code",
   "execution_count": 354,
   "id": "7496c682-0a75-437a-8686-99bd7a02d70c",
   "metadata": {},
   "outputs": [
    {
     "name": "stdout",
     "output_type": "stream",
     "text": [
      "Correlation between humidity and temperature: -0.8577262250282213\n",
      "\n",
      "\n",
      "Correlation between wind speed and humidity: -0.3405065690610933\n",
      "\n",
      "\n",
      "Correlation between wind speed and temperature: 0.21774287419840266\n"
     ]
    }
   ],
   "source": [
    "# Correlations\n",
    "\n",
    "corr_hum_temp = df3[\"Luftfeuchtigkeit\"].corr(df3[\"Temperatur\"])\n",
    "corr_hum_wind = df3[\"Luftfeuchtigkeit\"].corr(df3[\"Windgeschwindigkeit\"])\n",
    "corr_wind_temp = df3[\"Windgeschwindigkeit\"].corr(df3[\"Temperatur\"])\n",
    "\n",
    "print(f\"Correlation between humidity and temperature: {corr_hum_temp}\")\n",
    "print(\"\\n\")\n",
    "print(f\"Correlation between wind speed and humidity: {corr_hum_wind}\")\n",
    "print(\"\\n\")\n",
    "print(f\"Correlation between wind speed and temperature: {corr_wind_temp}\")\n",
    "                                             "
   ]
  },
  {
   "cell_type": "markdown",
   "id": "2a1a8ebf-7717-4557-87e9-4784c33fe0fe",
   "metadata": {},
   "source": [
    "## 4. Summary\n",
    "In this project we calculated the information gain of features. This is important for creating efficient ML algorithms by identifying features with the highest information value. \n",
    "\n",
    "After that we calculated some basic statistical information about the features, which gives a basic understanding of the underlying numeric distribution of the numerical data."
   ]
  }
 ],
 "metadata": {
  "kernelspec": {
   "display_name": "Python 3 (ipykernel)",
   "language": "python",
   "name": "python3"
  },
  "language_info": {
   "codemirror_mode": {
    "name": "ipython",
    "version": 3
   },
   "file_extension": ".py",
   "mimetype": "text/x-python",
   "name": "python",
   "nbconvert_exporter": "python",
   "pygments_lexer": "ipython3",
   "version": "3.12.4"
  }
 },
 "nbformat": 4,
 "nbformat_minor": 5
}
