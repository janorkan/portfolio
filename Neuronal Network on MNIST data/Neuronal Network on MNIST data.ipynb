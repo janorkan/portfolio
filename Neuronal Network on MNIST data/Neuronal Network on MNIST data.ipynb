{
 "cells": [
  {
   "cell_type": "markdown",
   "id": "f88b8cd5-55ac-4348-b680-225aba178bd5",
   "metadata": {},
   "source": [
    "# Neuronal Network on MNIST data"
   ]
  },
  {
   "cell_type": "code",
   "execution_count": 258,
   "id": "3ba80db0-fff5-4c6d-96e2-0e8b14691526",
   "metadata": {},
   "outputs": [],
   "source": [
    "import pandas as pd\n",
    "import numpy as np\n",
    "import matplotlib.pyplot as plt\n",
    "from sklearn.model_selection import train_test_split\n",
    "from sklearn.preprocessing import MinMaxScaler\n",
    "from scipy import special\n",
    "import random\n",
    "%matplotlib inline"
   ]
  },
  {
   "cell_type": "code",
   "execution_count": 6,
   "id": "77fe6e9e-852c-43ff-a39f-87645d55001f",
   "metadata": {},
   "outputs": [
    {
     "data": {
      "text/html": [
       "<div>\n",
       "<style scoped>\n",
       "    .dataframe tbody tr th:only-of-type {\n",
       "        vertical-align: middle;\n",
       "    }\n",
       "\n",
       "    .dataframe tbody tr th {\n",
       "        vertical-align: top;\n",
       "    }\n",
       "\n",
       "    .dataframe thead th {\n",
       "        text-align: right;\n",
       "    }\n",
       "</style>\n",
       "<table border=\"1\" class=\"dataframe\">\n",
       "  <thead>\n",
       "    <tr style=\"text-align: right;\">\n",
       "      <th></th>\n",
       "      <th>7</th>\n",
       "      <th>0</th>\n",
       "      <th>0.1</th>\n",
       "      <th>0.2</th>\n",
       "      <th>0.3</th>\n",
       "      <th>0.4</th>\n",
       "      <th>0.5</th>\n",
       "      <th>0.6</th>\n",
       "      <th>0.7</th>\n",
       "      <th>0.8</th>\n",
       "      <th>...</th>\n",
       "      <th>0.658</th>\n",
       "      <th>0.659</th>\n",
       "      <th>0.660</th>\n",
       "      <th>0.661</th>\n",
       "      <th>0.662</th>\n",
       "      <th>0.663</th>\n",
       "      <th>0.664</th>\n",
       "      <th>0.665</th>\n",
       "      <th>0.666</th>\n",
       "      <th>0.667</th>\n",
       "    </tr>\n",
       "  </thead>\n",
       "  <tbody>\n",
       "    <tr>\n",
       "      <th>0</th>\n",
       "      <td>2</td>\n",
       "      <td>0</td>\n",
       "      <td>0</td>\n",
       "      <td>0</td>\n",
       "      <td>0</td>\n",
       "      <td>0</td>\n",
       "      <td>0</td>\n",
       "      <td>0</td>\n",
       "      <td>0</td>\n",
       "      <td>0</td>\n",
       "      <td>...</td>\n",
       "      <td>0</td>\n",
       "      <td>0</td>\n",
       "      <td>0</td>\n",
       "      <td>0</td>\n",
       "      <td>0</td>\n",
       "      <td>0</td>\n",
       "      <td>0</td>\n",
       "      <td>0</td>\n",
       "      <td>0</td>\n",
       "      <td>0</td>\n",
       "    </tr>\n",
       "    <tr>\n",
       "      <th>1</th>\n",
       "      <td>1</td>\n",
       "      <td>0</td>\n",
       "      <td>0</td>\n",
       "      <td>0</td>\n",
       "      <td>0</td>\n",
       "      <td>0</td>\n",
       "      <td>0</td>\n",
       "      <td>0</td>\n",
       "      <td>0</td>\n",
       "      <td>0</td>\n",
       "      <td>...</td>\n",
       "      <td>0</td>\n",
       "      <td>0</td>\n",
       "      <td>0</td>\n",
       "      <td>0</td>\n",
       "      <td>0</td>\n",
       "      <td>0</td>\n",
       "      <td>0</td>\n",
       "      <td>0</td>\n",
       "      <td>0</td>\n",
       "      <td>0</td>\n",
       "    </tr>\n",
       "    <tr>\n",
       "      <th>2</th>\n",
       "      <td>0</td>\n",
       "      <td>0</td>\n",
       "      <td>0</td>\n",
       "      <td>0</td>\n",
       "      <td>0</td>\n",
       "      <td>0</td>\n",
       "      <td>0</td>\n",
       "      <td>0</td>\n",
       "      <td>0</td>\n",
       "      <td>0</td>\n",
       "      <td>...</td>\n",
       "      <td>0</td>\n",
       "      <td>0</td>\n",
       "      <td>0</td>\n",
       "      <td>0</td>\n",
       "      <td>0</td>\n",
       "      <td>0</td>\n",
       "      <td>0</td>\n",
       "      <td>0</td>\n",
       "      <td>0</td>\n",
       "      <td>0</td>\n",
       "    </tr>\n",
       "    <tr>\n",
       "      <th>3</th>\n",
       "      <td>4</td>\n",
       "      <td>0</td>\n",
       "      <td>0</td>\n",
       "      <td>0</td>\n",
       "      <td>0</td>\n",
       "      <td>0</td>\n",
       "      <td>0</td>\n",
       "      <td>0</td>\n",
       "      <td>0</td>\n",
       "      <td>0</td>\n",
       "      <td>...</td>\n",
       "      <td>0</td>\n",
       "      <td>0</td>\n",
       "      <td>0</td>\n",
       "      <td>0</td>\n",
       "      <td>0</td>\n",
       "      <td>0</td>\n",
       "      <td>0</td>\n",
       "      <td>0</td>\n",
       "      <td>0</td>\n",
       "      <td>0</td>\n",
       "    </tr>\n",
       "    <tr>\n",
       "      <th>4</th>\n",
       "      <td>1</td>\n",
       "      <td>0</td>\n",
       "      <td>0</td>\n",
       "      <td>0</td>\n",
       "      <td>0</td>\n",
       "      <td>0</td>\n",
       "      <td>0</td>\n",
       "      <td>0</td>\n",
       "      <td>0</td>\n",
       "      <td>0</td>\n",
       "      <td>...</td>\n",
       "      <td>0</td>\n",
       "      <td>0</td>\n",
       "      <td>0</td>\n",
       "      <td>0</td>\n",
       "      <td>0</td>\n",
       "      <td>0</td>\n",
       "      <td>0</td>\n",
       "      <td>0</td>\n",
       "      <td>0</td>\n",
       "      <td>0</td>\n",
       "    </tr>\n",
       "    <tr>\n",
       "      <th>...</th>\n",
       "      <td>...</td>\n",
       "      <td>...</td>\n",
       "      <td>...</td>\n",
       "      <td>...</td>\n",
       "      <td>...</td>\n",
       "      <td>...</td>\n",
       "      <td>...</td>\n",
       "      <td>...</td>\n",
       "      <td>...</td>\n",
       "      <td>...</td>\n",
       "      <td>...</td>\n",
       "      <td>...</td>\n",
       "      <td>...</td>\n",
       "      <td>...</td>\n",
       "      <td>...</td>\n",
       "      <td>...</td>\n",
       "      <td>...</td>\n",
       "      <td>...</td>\n",
       "      <td>...</td>\n",
       "      <td>...</td>\n",
       "      <td>...</td>\n",
       "    </tr>\n",
       "    <tr>\n",
       "      <th>9994</th>\n",
       "      <td>2</td>\n",
       "      <td>0</td>\n",
       "      <td>0</td>\n",
       "      <td>0</td>\n",
       "      <td>0</td>\n",
       "      <td>0</td>\n",
       "      <td>0</td>\n",
       "      <td>0</td>\n",
       "      <td>0</td>\n",
       "      <td>0</td>\n",
       "      <td>...</td>\n",
       "      <td>0</td>\n",
       "      <td>0</td>\n",
       "      <td>0</td>\n",
       "      <td>0</td>\n",
       "      <td>0</td>\n",
       "      <td>0</td>\n",
       "      <td>0</td>\n",
       "      <td>0</td>\n",
       "      <td>0</td>\n",
       "      <td>0</td>\n",
       "    </tr>\n",
       "    <tr>\n",
       "      <th>9995</th>\n",
       "      <td>3</td>\n",
       "      <td>0</td>\n",
       "      <td>0</td>\n",
       "      <td>0</td>\n",
       "      <td>0</td>\n",
       "      <td>0</td>\n",
       "      <td>0</td>\n",
       "      <td>0</td>\n",
       "      <td>0</td>\n",
       "      <td>0</td>\n",
       "      <td>...</td>\n",
       "      <td>0</td>\n",
       "      <td>0</td>\n",
       "      <td>0</td>\n",
       "      <td>0</td>\n",
       "      <td>0</td>\n",
       "      <td>0</td>\n",
       "      <td>0</td>\n",
       "      <td>0</td>\n",
       "      <td>0</td>\n",
       "      <td>0</td>\n",
       "    </tr>\n",
       "    <tr>\n",
       "      <th>9996</th>\n",
       "      <td>4</td>\n",
       "      <td>0</td>\n",
       "      <td>0</td>\n",
       "      <td>0</td>\n",
       "      <td>0</td>\n",
       "      <td>0</td>\n",
       "      <td>0</td>\n",
       "      <td>0</td>\n",
       "      <td>0</td>\n",
       "      <td>0</td>\n",
       "      <td>...</td>\n",
       "      <td>0</td>\n",
       "      <td>0</td>\n",
       "      <td>0</td>\n",
       "      <td>0</td>\n",
       "      <td>0</td>\n",
       "      <td>0</td>\n",
       "      <td>0</td>\n",
       "      <td>0</td>\n",
       "      <td>0</td>\n",
       "      <td>0</td>\n",
       "    </tr>\n",
       "    <tr>\n",
       "      <th>9997</th>\n",
       "      <td>5</td>\n",
       "      <td>0</td>\n",
       "      <td>0</td>\n",
       "      <td>0</td>\n",
       "      <td>0</td>\n",
       "      <td>0</td>\n",
       "      <td>0</td>\n",
       "      <td>0</td>\n",
       "      <td>0</td>\n",
       "      <td>0</td>\n",
       "      <td>...</td>\n",
       "      <td>0</td>\n",
       "      <td>0</td>\n",
       "      <td>0</td>\n",
       "      <td>0</td>\n",
       "      <td>0</td>\n",
       "      <td>0</td>\n",
       "      <td>0</td>\n",
       "      <td>0</td>\n",
       "      <td>0</td>\n",
       "      <td>0</td>\n",
       "    </tr>\n",
       "    <tr>\n",
       "      <th>9998</th>\n",
       "      <td>6</td>\n",
       "      <td>0</td>\n",
       "      <td>0</td>\n",
       "      <td>0</td>\n",
       "      <td>0</td>\n",
       "      <td>0</td>\n",
       "      <td>0</td>\n",
       "      <td>0</td>\n",
       "      <td>0</td>\n",
       "      <td>0</td>\n",
       "      <td>...</td>\n",
       "      <td>0</td>\n",
       "      <td>0</td>\n",
       "      <td>0</td>\n",
       "      <td>0</td>\n",
       "      <td>0</td>\n",
       "      <td>0</td>\n",
       "      <td>0</td>\n",
       "      <td>0</td>\n",
       "      <td>0</td>\n",
       "      <td>0</td>\n",
       "    </tr>\n",
       "  </tbody>\n",
       "</table>\n",
       "<p>9999 rows × 785 columns</p>\n",
       "</div>"
      ],
      "text/plain": [
       "      7  0  0.1  0.2  0.3  0.4  0.5  0.6  0.7  0.8  ...  0.658  0.659  0.660  \\\n",
       "0     2  0    0    0    0    0    0    0    0    0  ...      0      0      0   \n",
       "1     1  0    0    0    0    0    0    0    0    0  ...      0      0      0   \n",
       "2     0  0    0    0    0    0    0    0    0    0  ...      0      0      0   \n",
       "3     4  0    0    0    0    0    0    0    0    0  ...      0      0      0   \n",
       "4     1  0    0    0    0    0    0    0    0    0  ...      0      0      0   \n",
       "...  .. ..  ...  ...  ...  ...  ...  ...  ...  ...  ...    ...    ...    ...   \n",
       "9994  2  0    0    0    0    0    0    0    0    0  ...      0      0      0   \n",
       "9995  3  0    0    0    0    0    0    0    0    0  ...      0      0      0   \n",
       "9996  4  0    0    0    0    0    0    0    0    0  ...      0      0      0   \n",
       "9997  5  0    0    0    0    0    0    0    0    0  ...      0      0      0   \n",
       "9998  6  0    0    0    0    0    0    0    0    0  ...      0      0      0   \n",
       "\n",
       "      0.661  0.662  0.663  0.664  0.665  0.666  0.667  \n",
       "0         0      0      0      0      0      0      0  \n",
       "1         0      0      0      0      0      0      0  \n",
       "2         0      0      0      0      0      0      0  \n",
       "3         0      0      0      0      0      0      0  \n",
       "4         0      0      0      0      0      0      0  \n",
       "...     ...    ...    ...    ...    ...    ...    ...  \n",
       "9994      0      0      0      0      0      0      0  \n",
       "9995      0      0      0      0      0      0      0  \n",
       "9996      0      0      0      0      0      0      0  \n",
       "9997      0      0      0      0      0      0      0  \n",
       "9998      0      0      0      0      0      0      0  \n",
       "\n",
       "[9999 rows x 785 columns]"
      ]
     },
     "execution_count": 6,
     "metadata": {},
     "output_type": "execute_result"
    }
   ],
   "source": [
    "df = pd.read_csv(\"mnist_data.csv\")\n",
    "df"
   ]
  },
  {
   "cell_type": "code",
   "execution_count": 16,
   "id": "ae2cc80f-a235-4f1d-979f-3b7c9c589555",
   "metadata": {},
   "outputs": [
    {
     "data": {
      "text/plain": [
       "9999"
      ]
     },
     "execution_count": 16,
     "metadata": {},
     "output_type": "execute_result"
    }
   ],
   "source": [
    "# Split Label and Features\n",
    "y = pd.DataFrame(df[\"7\"])\n",
    "X = df.drop(\"7\", axis=1)\n",
    "\n",
    "# Convert data to image_data\n",
    "X_list_28 = []\n",
    "\n",
    "for i in range(0,len(X)):\n",
    "    img = np.array(X.loc[i]).reshape((28,28))\n",
    "    X_list_28.append(img)\n",
    "\n",
    "len(X_list_28)"
   ]
  },
  {
   "cell_type": "code",
   "execution_count": 192,
   "id": "540ce2ca-efbc-4ed7-afce-94e2f4b203c8",
   "metadata": {},
   "outputs": [
    {
     "data": {
      "text/plain": [
       "<matplotlib.image.AxesImage at 0x1e315dbf530>"
      ]
     },
     "execution_count": 192,
     "metadata": {},
     "output_type": "execute_result"
    },
    {
     "data": {
      "image/png": "[encoded data removed]",
      "text/plain": [
       "<Figure size 640x480 with 1 Axes>"
      ]
     },
     "metadata": {},
     "output_type": "display_data"
    }
   ],
   "source": [
    "# Show random image of drawn number\n",
    "\n",
    "rnd = random.randint(0,len(X_list_28))\n",
    "\n",
    "plt.imshow(X_list_28[0], cmap=\"Greys\")"
   ]
  },
  {
   "cell_type": "code",
   "execution_count": 256,
   "id": "f5a5674f-ca67-4625-a881-8ea8923fee99",
   "metadata": {},
   "outputs": [],
   "source": [
    "# Split test/train and scale data\n",
    "\n",
    "minmax = MinMaxScaler(feature_range=(0.01, 1))\n",
    "X_scaled = minmax.fit_transform(X)\n",
    "y_enc = pd.get_dummies(y, columns=[\"7\"], dtype=int).values\n",
    "\n",
    "X_train, X_test, y_train, y_test = train_test_split(X_scaled, y_enc, test_size=0.2, random_state=42)"
   ]
  },
  {
   "cell_type": "code",
   "execution_count": 254,
   "id": "0ace1df5-0efe-416d-bd67-4d2a00f495db",
   "metadata": {},
   "outputs": [
    {
     "name": "stdout",
     "output_type": "stream",
     "text": [
      "[[0 0 0 ... 0 0 1]\n",
      " [0 0 0 ... 0 1 0]\n",
      " [0 0 0 ... 1 0 0]\n",
      " ...\n",
      " [0 0 0 ... 0 0 0]\n",
      " [0 0 0 ... 0 0 0]\n",
      " [0 0 1 ... 0 0 0]]\n"
     ]
    }
   ],
   "source": [
    "print(y_train)"
   ]
  },
  {
   "cell_type": "code",
   "execution_count": 260,
   "id": "322296e6-17a7-45bb-bedc-d6fcba31a540",
   "metadata": {},
   "outputs": [
    {
     "name": "stdout",
     "output_type": "stream",
     "text": [
      "[0.4720875  0.24102295 0.27389481 ... 0.52106104 0.23963955 0.4023102 ]\n"
     ]
    }
   ],
   "source": [
    "# Manual neuronal network (only forward)\n",
    "\n",
    "input_neurons = 784\n",
    "hidden_neurons = 100\n",
    "output_neurons = 10\n",
    "\n",
    "np.random.seed(42)\n",
    "W_1 = np.random.uniform(-0.5, 0.5, (hidden_neurons,input_neurons))\n",
    "W_2 = np.random.uniform(-0.5, 0.5, (output_neurons,hidden_neurons))\n",
    "\n",
    "def test_neuronal_network(X, w1, w2):\n",
    "    input_vector = np.array(X, ndmin=2).T\n",
    "    targets = np.array(y,ndmin=2).T\n",
    "\n",
    "    X_1 = np.dot(w1,input_vector)\n",
    "    O_1 = special.expit(X_1)\n",
    "\n",
    "    X_2 = np.dot(w2,O_1)\n",
    "    O_2 = special.expit(X_2)\n",
    "\n",
    "    return O_1, O_2\n",
    "\n",
    "# Results for first test dataset\n",
    "O_1, O_2 = test_neuronal_network(X_train, W_1, W_2)\n",
    "print(O_2[0])"
   ]
  },
  {
   "cell_type": "code",
   "execution_count": 282,
   "id": "8493a165-5b51-4084-a7e6-c8834badf100",
   "metadata": {},
   "outputs": [
    {
     "name": "stdout",
     "output_type": "stream",
     "text": [
      "X_train: (7999, 784)\n",
      "y_train: (7999, 10)\n",
      "W_1: (100, 784)\n",
      "W_2: (10, 100)\n",
      "O_1: (100, 1)\n",
      "O_2: (10, 1)\n"
     ]
    }
   ],
   "source": [
    "# Debug array shapes\n",
    "\n",
    "print(f\"X_train: {X_train.shape}\")\n",
    "print(f\"y_train: {y_train.shape}\")\n",
    "print(f\"W_1: {W_1.shape}\")\n",
    "print(f\"W_2: {W_2.shape}\")\n",
    "print(f\"O_1: {O_1.shape}\")\n",
    "print(f\"O_2: {O_2.shape}\")"
   ]
  },
  {
   "cell_type": "code",
   "execution_count": 298,
   "id": "d9b93dc6-9b3c-4b07-a880-c101f9547eea",
   "metadata": {},
   "outputs": [
    {
     "name": "stdout",
     "output_type": "stream",
     "text": [
      " W_1_new: (100, 784)\n",
      " W_2_new: (10, 100)\n",
      " W_2_new: [-0.01356431 -0.03682874 -0.01453084 -0.03705223 -0.01806884 -0.03314123\n",
      " -0.02936257 -0.01368722 -0.02684978 -0.00652949 -0.0070171  -0.02898174\n",
      " -0.02466943 -0.03657402 -0.01466743 -0.02569861 -0.00937338 -0.0211917\n",
      " -0.02744673 -0.01777131 -0.03858593 -0.04208577 -0.03773897 -0.02323966\n",
      " -0.03490158 -0.03362903 -0.03071119 -0.03942819 -0.0431144  -0.02911151\n",
      " -0.0199302  -0.0208675  -0.01050683 -0.01434818 -0.01508479 -0.00945055\n",
      " -0.02226854 -0.01813765 -0.03872546 -0.02377801 -0.03627513 -0.01904031\n",
      " -0.03984741 -0.01223119 -0.0119271  -0.02933157 -0.02091472 -0.04037399\n",
      " -0.01253576 -0.03337162 -0.0270622  -0.03236742 -0.03468433 -0.01553618\n",
      " -0.02145596 -0.00727686 -0.02398995 -0.038909   -0.03570601 -0.04052568\n",
      " -0.02956904 -0.00436912 -0.00649294 -0.00394901 -0.03403269 -0.03287036\n",
      " -0.02397761 -0.00622353 -0.01577275 -0.01838537 -0.02915201 -0.02702529\n",
      " -0.04104919 -0.03510713 -0.02202752 -0.02185063 -0.00776449 -0.02114158\n",
      " -0.02828401 -0.0324628  -0.02195822 -0.03299612 -0.03198613 -0.02776421\n",
      " -0.02907533 -0.01746426 -0.0433911  -0.03243935 -0.04220945 -0.00866719\n",
      " -0.03480075 -0.02775495 -0.00949623 -0.0320501  -0.02299633 -0.03499385\n",
      " -0.02381578 -0.01485037 -0.04215116 -0.0301485 ]\n"
     ]
    }
   ],
   "source": [
    "# Extended neuronal network with back propagation\n",
    "\n",
    "learning_rate = 0.0001\n",
    "\n",
    "def train_neuronal_network(X, w1, w2, y, alpha):\n",
    "    w1_new = 0\n",
    "    w2_new = 0\n",
    "\n",
    "    input_vector = np.array(X, ndmin=2).T\n",
    "    targets = np.array(y,ndmin=2).T\n",
    "    \n",
    "    O_1, O_2 = test_neuronal_network(X, w1, w2)\n",
    "\n",
    "    error_output = targets - O_2\n",
    "    error_hidden = np.dot(w2.T, error_output)\n",
    "\n",
    "    w1_new += alpha * np.dot((error_hidden * output[0]*(1-output[0])),np.transpose(input_vector))\n",
    "    w2_new += alpha * np.dot((error_output * output[1]*(1-output[1])),np.transpose(O_1))\n",
    "\n",
    "\n",
    "    return w1_new, w2_new #output, error_output, error_hidden, input_vector, targets,\n",
    "\n",
    "W_1_new, W_2_new = train_neuronal_network(X_train, W_1, W_2, y_train, learning_rate)\n",
    "print(f\" W_1_new: {W_1_new.shape}\")\n",
    "print(f\" W_2_new: {W_2_new.shape}\")\n",
    "print(f\" W_2_new: {W_2_new[0]}\")"
   ]
  },
  {
   "cell_type": "code",
   "execution_count": 364,
   "id": "dec7cd52-792e-44fb-8e3a-20e1731989f5",
   "metadata": {},
   "outputs": [
    {
     "name": "stdout",
     "output_type": "stream",
     "text": [
      "Training over!\n"
     ]
    }
   ],
   "source": [
    "# Train 100 additional epochs\n",
    "\n",
    "for i in range(1000):\n",
    "    W_1_new, W_2_new = train_neuronal_network(X_train, W_1_new, W_2_new, y_train, learning_rate)\n",
    "    if i == 999:\n",
    "        print(\"Training over!\")"
   ]
  },
  {
   "cell_type": "code",
   "execution_count": 366,
   "id": "d2f3379f-46e4-449d-8813-d7a615638e9b",
   "metadata": {},
   "outputs": [
    {
     "name": "stdout",
     "output_type": "stream",
     "text": [
      " W_2_new: [-0.01769382 -0.01737479 -0.01769345 -0.01752102 -0.01785517 -0.01777907\n",
      " -0.01776046 -0.01796436 -0.01795797 -0.01742061 -0.0173006  -0.01784076\n",
      " -0.01779491 -0.01769536 -0.01766881 -0.01783172 -0.01755724 -0.0178094\n",
      " -0.0178734  -0.01777516 -0.01749471 -0.01718591 -0.01746376 -0.01799986\n",
      " -0.01761898 -0.0177212  -0.01761528 -0.01731675 -0.01707134 -0.01768865\n",
      " -0.01786663 -0.01777085 -0.0173446  -0.01762761 -0.01746828 -0.01751682\n",
      " -0.01776763 -0.01784583 -0.01727186 -0.01787228 -0.01729348 -0.01778301\n",
      " -0.01744297 -0.01752119 -0.01757021 -0.0177063  -0.01778573 -0.01724523\n",
      " -0.01766108 -0.01756845 -0.01774453 -0.01746822 -0.01760882 -0.01793578\n",
      " -0.01785074 -0.01736975 -0.01779759 -0.01728998 -0.0176306  -0.01717607\n",
      " -0.01762133 -0.01707141 -0.01718838 -0.01709179 -0.01753633 -0.01744577\n",
      " -0.01766295 -0.01741776 -0.01766343 -0.01786519 -0.01771848 -0.01787277\n",
      " -0.01732432 -0.01775927 -0.01779384 -0.017753   -0.01746156 -0.01777053\n",
      " -0.01774466 -0.01784041 -0.01796788 -0.01774404 -0.01759661 -0.01789278\n",
      " -0.01771948 -0.01773428 -0.01722743 -0.01768777 -0.01715982 -0.01730391\n",
      " -0.01774832 -0.01780267 -0.01745179 -0.01771559 -0.01794589 -0.01779899\n",
      " -0.01796829 -0.01780426 -0.01730303 -0.01771524]\n"
     ]
    }
   ],
   "source": [
    "print(f\" W_2_new: {W_2_new[0]}\")"
   ]
  },
  {
   "cell_type": "code",
   "execution_count": 368,
   "id": "df013aed-3bdd-4606-bfd7-dac8d37dc494",
   "metadata": {},
   "outputs": [
    {
     "name": "stdout",
     "output_type": "stream",
     "text": [
      "1\n",
      "3\n",
      "[0.28340617 0.35029615 0.28637533 0.3219413  0.288225   0.27687332\n",
      " 0.29479507 0.30313547 0.2283058  0.26061341]\n"
     ]
    }
   ],
   "source": [
    "# Test Neuronal Network after Training\n",
    "index= 500\n",
    "\n",
    "O_1, O_2 = test_neuronal_network(X_test, W_1_new, W_2_new)\n",
    "y_predict = O_2.T\n",
    "print(np.argmax(y_predict[index]))\n",
    "print(np.argmax(y_test[index]))\n",
    "print(y_predict[index])"
   ]
  },
  {
   "cell_type": "code",
   "execution_count": 348,
   "id": "ba734fe6-a6e5-42a0-9552-a823c580edf5",
   "metadata": {},
   "outputs": [
    {
     "data": {
      "text/plain": [
       "(2000, 10)"
      ]
     },
     "execution_count": 348,
     "metadata": {},
     "output_type": "execute_result"
    }
   ],
   "source": [
    "O_2.T.shape"
   ]
  },
  {
   "cell_type": "code",
   "execution_count": 350,
   "id": "475b61ae-a958-41d9-b2da-68fc3a500642",
   "metadata": {},
   "outputs": [
    {
     "data": {
      "text/plain": [
       "(2000, 10)"
      ]
     },
     "execution_count": 350,
     "metadata": {},
     "output_type": "execute_result"
    }
   ],
   "source": [
    "y_test.shape"
   ]
  },
  {
   "cell_type": "code",
   "execution_count": 374,
   "id": "1bf2e2c7-9fb5-45d8-a95f-c96d74bf96fd",
   "metadata": {},
   "outputs": [
    {
     "name": "stdout",
     "output_type": "stream",
     "text": [
      "0.109\n"
     ]
    }
   ],
   "source": [
    "# Performance Calculation\n",
    "\n",
    "def performance_neuronal_network(y_test, y_predict):\n",
    "    correct = []\n",
    "    for i in range(0, len(y_test)):\n",
    "        if np.argmax(y_predict[i]) == np.argmax(y_test[i]):\n",
    "            correct.append(i)\n",
    "    performance = len(correct)/len(y_test)\n",
    "    return performance, correct\n",
    "\n",
    "perf, perf_list = performance_neuronal_network(y_test, y_predict)\n",
    "\n",
    "print(perf)"
   ]
  }
 ],
 "metadata": {
  "kernelspec": {
   "display_name": "Python 3 (ipykernel)",
   "language": "python",
   "name": "python3"
  },
  "language_info": {
   "codemirror_mode": {
    "name": "ipython",
    "version": 3
   },
   "file_extension": ".py",
   "mimetype": "text/x-python",
   "name": "python",
   "nbconvert_exporter": "python",
   "pygments_lexer": "ipython3",
   "version": "3.12.4"
  }
 },
 "nbformat": 4,
 "nbformat_minor": 5
}
